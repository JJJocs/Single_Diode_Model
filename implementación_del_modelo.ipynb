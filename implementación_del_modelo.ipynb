{
 "cells": [
  {
   "cell_type": "markdown",
   "id": "ce2ccedc",
   "metadata": {},
   "source": [
    "## **1 . Importación de librerias**"
   ]
  },
  {
   "cell_type": "code",
   "execution_count": 230,
   "id": "319a63f4",
   "metadata": {},
   "outputs": [],
   "source": [
    "#Importación de librerias\n",
    "import pandas as pd\n",
    "import pvlib\n",
    "from pvlib.pvsystem import retrieve_sam\n"
   ]
  },
  {
   "cell_type": "markdown",
   "id": "dbdb6ea4",
   "metadata": {},
   "source": [
    "- **pandas**: para manejar datos tabulares.\n",
    "- **pvlib**: libreria especial para modelar el rendimiento de sistemas fotovoltaicos.\n",
    "- **retrieve_sam**: se usa para obtener parámetros de paneles solares desde la base de datos del **NREL System Advisor Model** (SAM)"
   ]
  },
  {
   "cell_type": "markdown",
   "id": "d468c7b4",
   "metadata": {},
   "source": [
    "## **2. Carga y organización de datos**"
   ]
  },
  {
   "cell_type": "code",
   "execution_count": 231,
   "id": "f48f3611",
   "metadata": {},
   "outputs": [
    {
     "name": "stdout",
     "output_type": "stream",
     "text": [
      "Índice creado y localizado a UTC.\n",
      "Zona horaria intermedia: UTC\n",
      "Índice convertido a America/Costa_Rica.\n",
      "Zona horaria final del índice: America/Costa_Rica\n"
     ]
    },
    {
     "data": {
      "text/html": [
       "<div>\n",
       "<style scoped>\n",
       "    .dataframe tbody tr th:only-of-type {\n",
       "        vertical-align: middle;\n",
       "    }\n",
       "\n",
       "    .dataframe tbody tr th {\n",
       "        vertical-align: top;\n",
       "    }\n",
       "\n",
       "    .dataframe thead th {\n",
       "        text-align: right;\n",
       "    }\n",
       "</style>\n",
       "<table border=\"1\" class=\"dataframe\">\n",
       "  <thead>\n",
       "    <tr style=\"text-align: right;\">\n",
       "      <th></th>\n",
       "      <th>GHI (W/m²)</th>\n",
       "      <th>DHI (W/m²)</th>\n",
       "      <th>DNI (W/m²)</th>\n",
       "      <th>Temperatura (°C)</th>\n",
       "      <th>Velocidad Viento (m/s)</th>\n",
       "      <th>Humedad Relativa (%)</th>\n",
       "      <th>Ángulo Cenital Solar (°)</th>\n",
       "      <th>Presión (hPa)</th>\n",
       "    </tr>\n",
       "    <tr>\n",
       "      <th>datetime_naive</th>\n",
       "      <th></th>\n",
       "      <th></th>\n",
       "      <th></th>\n",
       "      <th></th>\n",
       "      <th></th>\n",
       "      <th></th>\n",
       "      <th></th>\n",
       "      <th></th>\n",
       "    </tr>\n",
       "  </thead>\n",
       "  <tbody>\n",
       "    <tr>\n",
       "      <th>2022-12-31 18:30:00-06:00</th>\n",
       "      <td>0</td>\n",
       "      <td>0</td>\n",
       "      <td>0</td>\n",
       "      <td>20.5</td>\n",
       "      <td>0.4</td>\n",
       "      <td>99.98</td>\n",
       "      <td>105.41</td>\n",
       "      <td>907</td>\n",
       "    </tr>\n",
       "    <tr>\n",
       "      <th>2022-12-31 19:30:00-06:00</th>\n",
       "      <td>0</td>\n",
       "      <td>0</td>\n",
       "      <td>0</td>\n",
       "      <td>20.1</td>\n",
       "      <td>0.3</td>\n",
       "      <td>100.00</td>\n",
       "      <td>119.20</td>\n",
       "      <td>907</td>\n",
       "    </tr>\n",
       "    <tr>\n",
       "      <th>2022-12-31 20:30:00-06:00</th>\n",
       "      <td>0</td>\n",
       "      <td>0</td>\n",
       "      <td>0</td>\n",
       "      <td>19.8</td>\n",
       "      <td>0.3</td>\n",
       "      <td>100.00</td>\n",
       "      <td>132.95</td>\n",
       "      <td>908</td>\n",
       "    </tr>\n",
       "    <tr>\n",
       "      <th>2022-12-31 21:30:00-06:00</th>\n",
       "      <td>0</td>\n",
       "      <td>0</td>\n",
       "      <td>0</td>\n",
       "      <td>19.4</td>\n",
       "      <td>0.3</td>\n",
       "      <td>100.00</td>\n",
       "      <td>146.41</td>\n",
       "      <td>908</td>\n",
       "    </tr>\n",
       "    <tr>\n",
       "      <th>2022-12-31 22:30:00-06:00</th>\n",
       "      <td>0</td>\n",
       "      <td>0</td>\n",
       "      <td>0</td>\n",
       "      <td>19.1</td>\n",
       "      <td>0.3</td>\n",
       "      <td>100.00</td>\n",
       "      <td>158.84</td>\n",
       "      <td>907</td>\n",
       "    </tr>\n",
       "    <tr>\n",
       "      <th>...</th>\n",
       "      <td>...</td>\n",
       "      <td>...</td>\n",
       "      <td>...</td>\n",
       "      <td>...</td>\n",
       "      <td>...</td>\n",
       "      <td>...</td>\n",
       "      <td>...</td>\n",
       "      <td>...</td>\n",
       "    </tr>\n",
       "    <tr>\n",
       "      <th>2023-12-31 13:30:00-06:00</th>\n",
       "      <td>543</td>\n",
       "      <td>274</td>\n",
       "      <td>366</td>\n",
       "      <td>24.8</td>\n",
       "      <td>0.4</td>\n",
       "      <td>75.27</td>\n",
       "      <td>42.70</td>\n",
       "      <td>907</td>\n",
       "    </tr>\n",
       "    <tr>\n",
       "      <th>2023-12-31 14:30:00-06:00</th>\n",
       "      <td>509</td>\n",
       "      <td>186</td>\n",
       "      <td>540</td>\n",
       "      <td>24.3</td>\n",
       "      <td>0.4</td>\n",
       "      <td>78.15</td>\n",
       "      <td>53.21</td>\n",
       "      <td>907</td>\n",
       "    </tr>\n",
       "    <tr>\n",
       "      <th>2023-12-31 15:30:00-06:00</th>\n",
       "      <td>306</td>\n",
       "      <td>99</td>\n",
       "      <td>495</td>\n",
       "      <td>23.5</td>\n",
       "      <td>0.4</td>\n",
       "      <td>81.97</td>\n",
       "      <td>65.33</td>\n",
       "      <td>907</td>\n",
       "    </tr>\n",
       "    <tr>\n",
       "      <th>2023-12-31 16:30:00-06:00</th>\n",
       "      <td>160</td>\n",
       "      <td>53</td>\n",
       "      <td>528</td>\n",
       "      <td>22.3</td>\n",
       "      <td>0.4</td>\n",
       "      <td>89.44</td>\n",
       "      <td>78.26</td>\n",
       "      <td>907</td>\n",
       "    </tr>\n",
       "    <tr>\n",
       "      <th>2023-12-31 17:30:00-06:00</th>\n",
       "      <td>0</td>\n",
       "      <td>0</td>\n",
       "      <td>0</td>\n",
       "      <td>21.7</td>\n",
       "      <td>0.4</td>\n",
       "      <td>94.24</td>\n",
       "      <td>91.76</td>\n",
       "      <td>907</td>\n",
       "    </tr>\n",
       "  </tbody>\n",
       "</table>\n",
       "<p>8760 rows × 8 columns</p>\n",
       "</div>"
      ],
      "text/plain": [
       "                           GHI (W/m²)  DHI (W/m²)  DNI (W/m²)  \\\n",
       "datetime_naive                                                  \n",
       "2022-12-31 18:30:00-06:00           0           0           0   \n",
       "2022-12-31 19:30:00-06:00           0           0           0   \n",
       "2022-12-31 20:30:00-06:00           0           0           0   \n",
       "2022-12-31 21:30:00-06:00           0           0           0   \n",
       "2022-12-31 22:30:00-06:00           0           0           0   \n",
       "...                               ...         ...         ...   \n",
       "2023-12-31 13:30:00-06:00         543         274         366   \n",
       "2023-12-31 14:30:00-06:00         509         186         540   \n",
       "2023-12-31 15:30:00-06:00         306          99         495   \n",
       "2023-12-31 16:30:00-06:00         160          53         528   \n",
       "2023-12-31 17:30:00-06:00           0           0           0   \n",
       "\n",
       "                           Temperatura (°C)  Velocidad Viento (m/s)  \\\n",
       "datetime_naive                                                        \n",
       "2022-12-31 18:30:00-06:00              20.5                     0.4   \n",
       "2022-12-31 19:30:00-06:00              20.1                     0.3   \n",
       "2022-12-31 20:30:00-06:00              19.8                     0.3   \n",
       "2022-12-31 21:30:00-06:00              19.4                     0.3   \n",
       "2022-12-31 22:30:00-06:00              19.1                     0.3   \n",
       "...                                     ...                     ...   \n",
       "2023-12-31 13:30:00-06:00              24.8                     0.4   \n",
       "2023-12-31 14:30:00-06:00              24.3                     0.4   \n",
       "2023-12-31 15:30:00-06:00              23.5                     0.4   \n",
       "2023-12-31 16:30:00-06:00              22.3                     0.4   \n",
       "2023-12-31 17:30:00-06:00              21.7                     0.4   \n",
       "\n",
       "                           Humedad Relativa (%)  Ángulo Cenital Solar (°)  \\\n",
       "datetime_naive                                                              \n",
       "2022-12-31 18:30:00-06:00                 99.98                    105.41   \n",
       "2022-12-31 19:30:00-06:00                100.00                    119.20   \n",
       "2022-12-31 20:30:00-06:00                100.00                    132.95   \n",
       "2022-12-31 21:30:00-06:00                100.00                    146.41   \n",
       "2022-12-31 22:30:00-06:00                100.00                    158.84   \n",
       "...                                         ...                       ...   \n",
       "2023-12-31 13:30:00-06:00                 75.27                     42.70   \n",
       "2023-12-31 14:30:00-06:00                 78.15                     53.21   \n",
       "2023-12-31 15:30:00-06:00                 81.97                     65.33   \n",
       "2023-12-31 16:30:00-06:00                 89.44                     78.26   \n",
       "2023-12-31 17:30:00-06:00                 94.24                     91.76   \n",
       "\n",
       "                           Presión (hPa)  \n",
       "datetime_naive                            \n",
       "2022-12-31 18:30:00-06:00            907  \n",
       "2022-12-31 19:30:00-06:00            907  \n",
       "2022-12-31 20:30:00-06:00            908  \n",
       "2022-12-31 21:30:00-06:00            908  \n",
       "2022-12-31 22:30:00-06:00            907  \n",
       "...                                  ...  \n",
       "2023-12-31 13:30:00-06:00            907  \n",
       "2023-12-31 14:30:00-06:00            907  \n",
       "2023-12-31 15:30:00-06:00            907  \n",
       "2023-12-31 16:30:00-06:00            907  \n",
       "2023-12-31 17:30:00-06:00            907  \n",
       "\n",
       "[8760 rows x 8 columns]"
      ]
     },
     "execution_count": 231,
     "metadata": {},
     "output_type": "execute_result"
    }
   ],
   "source": [
    "import pandas as pd\n",
    "\n",
    "df = pd.read_csv(\"datos/977348_9.93_-84.06_2023.csv\", skiprows=2) \n",
    "\n",
    "df = df.rename(columns={\n",
    "    'Year': 'Año', 'Month': 'Mes', 'Day': 'Día', 'Hour': 'Hora', 'Minute': 'Minuto',\n",
    "    'GHI': 'GHI (W/m²)', 'DNI': 'DNI (W/m²)', 'DHI': 'DHI (W/m²)',\n",
    "    'Wind Speed': 'Velocidad Viento (m/s)', 'Temperature': 'Temperatura (°C)',\n",
    "    'Pressure': 'Presión (hPa)', 'Relative Humidity': 'Humedad Relativa (%)',\n",
    "    \"Solar Zenith Angle\": \"Ángulo Cenital Solar (°)\"\n",
    "})\n",
    "\n",
    "\n",
    "df['datetime_naive'] = pd.to_datetime({\n",
    "    'year': df['Año'],\n",
    "    'month': df['Mes'],\n",
    "    'day': df['Día'],\n",
    "    'hour': df['Hora'],\n",
    "    'minute': df['Minuto']\n",
    "})\n",
    "\n",
    "try:\n",
    "    df_utc = df.set_index('datetime_naive').tz_localize('UTC', ambiguous='infer')\n",
    "    print(\"Índice creado y localizado a UTC.\")\n",
    "    print(f\"Zona horaria intermedia: {df_utc.index.tz}\")\n",
    "\n",
    "    df = df_utc.tz_convert('America/Costa_Rica')\n",
    "    print(\"Índice convertido a America/Costa_Rica.\")\n",
    "    print(f\"Zona horaria final del índice: {df.index.tz}\")\n",
    "\n",
    "except Exception as e:\n",
    "    print(f\"Error al localizar/convertir el índice: {e}\")\n",
    "\n",
    "df = df.drop(columns=['Año', 'Mes', 'Día', 'Hora', 'Minuto'])\n",
    "\n",
    "df"
   ]
  },
  {
   "cell_type": "markdown",
   "id": "a57d68bc",
   "metadata": {},
   "source": [
    "- Uso datos del NSRDB (una base satelital del NREL) para una ubicación específica en 2023.\n",
    "\n",
    "- Los datos incluyen irradiancia (GHI, DNI, DHI), temperatura, humedad, velocidad del viento, presión y ángulo cenital solar.\n",
    "\n",
    "- Después se renombra columnas y se crea una columna de tiempo (datetime) para indexar las variables por hora."
   ]
  },
  {
   "cell_type": "markdown",
   "id": "eb8985a1",
   "metadata": {},
   "source": [
    "## **3. Selección del módulo solar**"
   ]
  },
  {
   "cell_type": "code",
   "execution_count": 232,
   "id": "cd618553",
   "metadata": {},
   "outputs": [
    {
     "name": "stdout",
     "output_type": "stream",
     "text": [
      "Technology            Mono-c-Si\n",
      "Bifacial                      0\n",
      "STC                     430.803\n",
      "PTC                       402.1\n",
      "A_c                        1.99\n",
      "Length                      NaN\n",
      "Width                       NaN\n",
      "N_s                          81\n",
      "I_sc_ref                    9.9\n",
      "V_oc_ref                   54.0\n",
      "I_mp_ref                   9.51\n",
      "V_mp_ref                   45.3\n",
      "alpha_sc               0.006197\n",
      "beta_oc               -0.148716\n",
      "T_NOCT                     45.1\n",
      "a_ref                  2.043637\n",
      "I_L_ref               10.001098\n",
      "I_o_ref                     0.0\n",
      "R_s                    0.249883\n",
      "R_sh_ref            1190.940552\n",
      "Adjust                 8.405635\n",
      "gamma_r                 -0.3448\n",
      "BIPV                          N\n",
      "Version       SAM 2018.11.11 r2\n",
      "Date                   1/3/2019\n",
      "Name: Canadian_Solar_Inc__CS1U_430MS, dtype: object\n"
     ]
    }
   ],
   "source": [
    "\n",
    "cec_modules = retrieve_sam('CECMod')\n",
    "module = cec_modules['Canadian_Solar_Inc__CS1U_430MS']\n",
    "print(module)\n",
    "\n"
   ]
  },
  {
   "cell_type": "markdown",
   "id": "11367bde",
   "metadata": {},
   "source": [
    "- retrieve_sam('CECMod') descarga los parámetros de paneles de la base de datos del CEC (California Energy Commission).\n",
    "\n",
    "- Se selecciona un módulo específico: \"Canadian_Solar_Inc__CS1U_430MS\".\n",
    "\n",
    "Este paso es clave porque estos parámetros (como Isc, Voc, Rs, Rsh, etc.) son los que se usan en el modelo físico Single Diode\n",
    "\n",
    "### 📘 ¿Qué es el modelo Single Diode?\n",
    "\n",
    "Es un modelo físico que representa a una celda solar con:\n",
    "- Una fuente de corriente (fotogenerada),\n",
    "- Un diodo (efecto de la unión pn),\n",
    "- Una resistencia serie $ R_s $,\n",
    "- Una resistencia en paralelo $ R_{sh} $.\n",
    "\n",
    "**Ecuación general:**\n",
    "$$\n",
    "I = I_{L} - I_{0} \\left( e^{\\frac{V + IR_s}{n V_T}} - 1 \\right) - \\frac{V + IR_s}{R_{sh}}\n",
    "$$\n",
    "\n",
    "Donde:\n",
    "- $ I_L $: corriente fotogenerada (proporcional a irradiancia),\n",
    "- $ I_0 $: corriente de saturación inversa (dependiente de temperatura),\n",
    "- $ n $: factor de idealidad,\n",
    "- $ V_T $: voltaje térmico ($ \\approx kT/q $).\n",
    "\n"
   ]
  },
  {
   "cell_type": "markdown",
   "id": "262d9ced",
   "metadata": {},
   "source": [
    "## **4. Parámetros de ubicación y orientación del sistema, y obtención del ángulo solar azimutal**"
   ]
  },
  {
   "cell_type": "code",
   "execution_count": 233,
   "id": "f433df37",
   "metadata": {},
   "outputs": [],
   "source": [
    "\n",
    "surface_tilt =10  # Inclinación del panel\n",
    "surface_azimuth = 288  #Hacia donde apunta el panel (grados)\n",
    "\n",
    "\n",
    "lat, lon = 9.93673,-84.04388   # Coordenadas de la ubicación\n",
    "\n",
    "location = pvlib.location.Location(latitude=lat, longitude=lon)\n",
    "solar_position = location.get_solarposition(df.index) #posición solar para cada hora\n",
    "\n",
    "solar_zenith = df[\"Ángulo Cenital Solar (°)\"]  #\n",
    "df[\"Angulo Azimuth Solar (°)\"] = solar_position[\"zenith\"]  \n"
   ]
  },
  {
   "cell_type": "markdown",
   "id": "4652e752",
   "metadata": {},
   "source": [
    "Primero define cómo están orientados los paneles respecto al plano horizontal (tilt) y hacia dónde están apuntando (azimuth).\n",
    "\n",
    "Luego crea un objeto Location que representa tu sitio geográfico y calcula la posición solar (zenith, azimuth, etc.) para cada hora del dataset.\n",
    "\n",
    "- La posición solar es fundamental para proyectar la radiación en el plano inclinado del panel. Sin ella, no se podria calcular cuánta irradiancia real llega al panel.\n",
    "\n",
    "Posterior a ello, se agrega el  ángulo azimuth solar, necesario para calcular la irradiancia en el plano del panel.\n"
   ]
  },
  {
   "cell_type": "markdown",
   "id": "dd59316e",
   "metadata": {},
   "source": [
    "## **5. Cálculo de POA (Plane of Array Irradiance)**"
   ]
  },
  {
   "cell_type": "code",
   "execution_count": 234,
   "id": "f7120cd7",
   "metadata": {},
   "outputs": [],
   "source": [
    "poa = pvlib.irradiance.get_total_irradiance(\n",
    "    surface_tilt=surface_tilt,\n",
    "    surface_azimuth=surface_azimuth,\n",
    "    dni=df['DNI (W/m²)'],\n",
    "    ghi=df['GHI (W/m²)'],\n",
    "    dhi=df['DHI (W/m²)'],\n",
    "    solar_zenith=df['Ángulo Cenital Solar (°)'],\n",
    "    solar_azimuth=df['Angulo Azimuth Solar (°)']\n",
    "    \n",
    ")\n",
    "\n",
    "df[\"POA\"] = poa[\"poa_global\"]  # Agregar la columna de irradiancia en el plano del panel al DataFrame\n",
    "\n"
   ]
  },
  {
   "cell_type": "markdown",
   "id": "66ab25b3",
   "metadata": {},
   "source": [
    "\n",
    "**get_total_irradiance()** calcula cuánta irradiancia (en W/m²) llega al plano del panel, considerando geometría y reflexión (albedo). Esto incluye:\n",
    "\n",
    "- DNI proyectado (directa normal corregida por ángulo de incidencia)\n",
    "\n",
    "- Difusa del cielo\n",
    "\n",
    "- Reflejada del suelo\n",
    "\n",
    ">El POA es la irradiancia real que recibe el módulo. Es un paso esencial para estimar la potencia generada por el panel, y sí, es ampliamente usado en simulación y diseño de sistemas reales."
   ]
  },
  {
   "cell_type": "markdown",
   "id": "8def1844",
   "metadata": {},
   "source": [
    "## **6. Módelo de temperatura de celda**"
   ]
  },
  {
   "cell_type": "code",
   "execution_count": 235,
   "id": "1a454c97",
   "metadata": {},
   "outputs": [
    {
     "name": "stdout",
     "output_type": "stream",
     "text": [
      "dict_keys(['open_rack_glass_glass', 'close_mount_glass_glass', 'open_rack_glass_polymer', 'insulated_back_glass_polymer'])\n"
     ]
    }
   ],
   "source": [
    "from pvlib.temperature import TEMPERATURE_MODEL_PARAMETERS\n",
    "\n",
    "print(TEMPERATURE_MODEL_PARAMETERS['sapm'].keys())\n",
    "\n"
   ]
  },
  {
   "cell_type": "markdown",
   "id": "958535ac",
   "metadata": {},
   "source": [
    "Este paso es para mostrar qué modelos de instalación hay disponibles ('open_rack_glass_glass', 'close_mount_glass_glass', 'open_rack_glass_polymer', 'insulated_back_glass_polymer')\n",
    ".\n"
   ]
  },
  {
   "cell_type": "code",
   "execution_count": 236,
   "id": "929c5498",
   "metadata": {},
   "outputs": [
    {
     "name": "stdout",
     "output_type": "stream",
     "text": [
      "Parámetros para techo: {'a': -2.98, 'b': -0.0471, 'deltaT': 1}\n"
     ]
    }
   ],
   "source": [
    "from pvlib.temperature import sapm_cell, TEMPERATURE_MODEL_PARAMETERS\n",
    "\n",
    "\n",
    "#Para un panel en un techo\n",
    "temp_params = TEMPERATURE_MODEL_PARAMETERS['sapm']['close_mount_glass_glass']\n",
    "print(\"Parámetros para techo:\", temp_params)\n",
    "#Esto define parámetros para estimar la temperatura de celda con el modelo SAPM (Sandia Array Performance Model)\n",
    "\n",
    "df['Temperatura de Celda'] = sapm_cell(\n",
    "    poa_global=df['POA'],\n",
    "    temp_air=df['Temperatura (°C)'],\n",
    "    wind_speed=df['Velocidad Viento (m/s)'],\n",
    "    **temp_params                          # a, b, deltaT\n",
    ")\n"
   ]
  },
  {
   "cell_type": "markdown",
   "id": "0d33e47f",
   "metadata": {},
   "source": [
    "> Este modelo estima la temperatura interna del módulo. Es importante porque la eficiencia cae conforme aumenta la temperatura.\n",
    "\n"
   ]
  },
  {
   "cell_type": "markdown",
   "id": "5a7e7d4c",
   "metadata": {},
   "source": [
    "## **7. Estimar parámetros eléctricos con calcparams_cec**"
   ]
  },
  {
   "cell_type": "markdown",
   "id": "a43069ca",
   "metadata": {},
   "source": [
    "Este paso utiliza el modelo de un solo diodo, y la variante CEC (California Energy Commission), que ya incluye muchos parámetros definidos en la base de datos del módulo."
   ]
  },
  {
   "cell_type": "code",
   "execution_count": 237,
   "id": "cae13ea5",
   "metadata": {},
   "outputs": [],
   "source": [
    "from pvlib.pvsystem import calcparams_cec, singlediode\n",
    "\n",
    "alpha_sc = module['alpha_sc']\n",
    "a_ref    = module['a_ref']\n",
    "I_L_ref  = module['I_L_ref']\n",
    "I_o_ref  = module['I_o_ref']\n",
    "R_sh_ref = module['R_sh_ref']\n",
    "R_s      = module['R_s']\n",
    "Adjust   = module['Adjust']  # ajuste a alpha_sc en %\n",
    "\n",
    "cec_params = calcparams_cec(\n",
    "    effective_irradiance = df['POA'],   # W/m²\n",
    "    temp_cell            = df['Temperatura de Celda'],    # °C\n",
    "    alpha_sc             = alpha_sc,           # A/°C\n",
    "    a_ref                = a_ref,              # V\n",
    "    I_L_ref              = I_L_ref,            # A\n",
    "    I_o_ref              = I_o_ref,            # A\n",
    "    R_sh_ref             = R_sh_ref,           # Ω\n",
    "    R_s                  = R_s,                # Ω\n",
    "    Adjust               = Adjust              # %\n",
    ")\n",
    "\n",
    "\n"
   ]
  },
  {
   "cell_type": "markdown",
   "id": "3490fc5e",
   "metadata": {},
   "source": [
    "\n",
    "\n",
    "### 🧠 ¿Qué hace `calcparams_cec()`?\n",
    "\n",
    "Este método calcula los **cinco parámetros** del modelo de un solo diodo para cada hora del año, dados:\n",
    "\n",
    "- **Irradiancia efectiva (POA)**\n",
    "- **Temperatura de celda**\n",
    "\n",
    "Y los parámetros del módulo, que vienen de la base CEC.\n",
    "\n"
   ]
  },
  {
   "cell_type": "markdown",
   "id": "ef6820e2",
   "metadata": {},
   "source": [
    "## **8. Obtener la potencia estimada con `singlediode()`**"
   ]
  },
  {
   "cell_type": "code",
   "execution_count": 238,
   "id": "d99f0fb5",
   "metadata": {},
   "outputs": [],
   "source": [
    "#Desempaqueta los parámetros y calcula el punto de máxima potencia\n",
    "IL, I0, Rs, Rsh, nNsVth = cec_params\n",
    "sd = singlediode(IL, I0, Rs, Rsh, nNsVth)\n",
    "\n",
    "# Guarda la potencia estimada\n",
    "df['Potencia_estimada (W)'] = sd['p_mp']  # potencia máxima esperada en W"
   ]
  },
  {
   "cell_type": "markdown",
   "id": "aa9d6816",
   "metadata": {},
   "source": [
    "### 🔎 ¿Qué hace `singlediode()`?\n",
    "\n",
    "A partir de los 5 parámetros anteriores, resuelve la ecuación no lineal **numéricamente** y calcula:\n",
    "\n",
    "- `i_mp`: corriente en el punto de máxima potencia\n",
    "- `v_mp`: voltaje en el punto de máxima potencia\n",
    "- `p_mp`: potencia máxima = $ i_{mp} \\times v_{mp} $\n",
    "- `i_sc`, `v_oc`: corriente de cortocircuito y voltaje de circuito abierto\n",
    "\n",
    "---"
   ]
  },
  {
   "cell_type": "markdown",
   "id": "c7fd4990",
   "metadata": {},
   "source": [
    "## **9. Graficación de comportamiento de variables climaticas durante el año y valores de tempertatura, y potencia**"
   ]
  },
  {
   "cell_type": "code",
   "execution_count": 239,
   "id": "5e4089b8",
   "metadata": {},
   "outputs": [
    {
     "data": {
      "image/png": "[encoded data removed]",
      "text/plain": [
       "<Figure size 640x480 with 1 Axes>"
      ]
     },
     "metadata": {},
     "output_type": "display_data"
    },
    {
     "data": {
      "image/png": "[encoded data removed]",
      "text/plain": [
       "<Figure size 640x480 with 1 Axes>"
      ]
     },
     "metadata": {},
     "output_type": "display_data"
    },
    {
     "data": {
      "image/png": "[encoded data removed]",
      "text/plain": [
       "<Figure size 640x480 with 1 Axes>"
      ]
     },
     "metadata": {},
     "output_type": "display_data"
    },
    {
     "data": {
      "image/png": "[encoded data removed]",
      "text/plain": [
       "<Figure size 640x480 with 1 Axes>"
      ]
     },
     "metadata": {},
     "output_type": "display_data"
    }
   ],
   "source": [
    "import matplotlib.pyplot as plt\n",
    "\n",
    "# Lista de columnas a graficar\n",
    "columnas = ['GHI (W/m²)', \n",
    "       'POA', 'Temperatura de Celda', 'Potencia_estimada (W)']\n",
    "\n",
    "for col in columnas:\n",
    "    plt.figure()                # 1 figura por variable\n",
    "    plt.plot(df.index, df[col]) # serie de tiempo\n",
    "    plt.title(col)              # título = nombre de la variable\n",
    "    plt.xlabel('Fecha')\n",
    "    plt.ylabel(f\"{col} para un único panel\")\n",
    "    plt.tight_layout()          # ajustar márgenes\n",
    "    plt.show()\n"
   ]
  },
  {
   "cell_type": "code",
   "execution_count": 240,
   "id": "2df472f2",
   "metadata": {},
   "outputs": [
    {
     "data": {
      "image/png": "[encoded data removed]",
      "text/plain": [
       "<Figure size 640x480 with 1 Axes>"
      ]
     },
     "metadata": {},
     "output_type": "display_data"
    }
   ],
   "source": [
    "plt.figure()\n",
    "plt.scatter(df['POA'], df[\"Potencia_estimada (W)\"], s=5)\n",
    "plt.title('POA vs. Potencia Estimada')\n",
    "plt.xlabel('POA (W/m²)')\n",
    "plt.ylabel('Potencia estimada (W)')\n",
    "plt.tight_layout()\n",
    "plt.show()\n"
   ]
  },
  {
   "cell_type": "code",
   "execution_count": 241,
   "id": "9bd40726",
   "metadata": {},
   "outputs": [
    {
     "name": "stdout",
     "output_type": "stream",
     "text": [
      "Energía anual estimada: 628.09 kWh\n",
      "Factor de Capacidad: 16.64 %\n"
     ]
    }
   ],
   "source": [
    "#Cálculo de energía anual estimada\n",
    "\n",
    "Energía_anual_kWh = df['Potencia_estimada (W)'].sum() / 1000  # kWh\n",
    "print(f\"Energía anual estimada: {Energía_anual_kWh:.2f} kWh\")\n",
    "\n",
    "#Factor de Capacidad\n",
    "potencia_stc_kW = module['STC'] / 1000\n",
    "Factor_de_Capacidad = (Energía_anual_kWh / (potencia_stc_kW * 8760)) * 100\n",
    "print(f\"Factor de Capacidad: {Factor_de_Capacidad:.2f} %\")\n",
    "\n"
   ]
  },
  {
   "cell_type": "code",
   "execution_count": 242,
   "id": "5fe63188",
   "metadata": {},
   "outputs": [
    {
     "data": {
      "application/vnd.plotly.v1+json": {
       "config": {
        "plotlyServerURL": "https://plot.ly"
       },
       "data": [
        {
         "hovertemplate": "Mes=Jan<br>Hora del Día=%{x}<br>Potencia Promedio (W)=%{y}<extra></extra>",
         "legendgroup": "Jan",
         "line": {
          "color": "#636efa",
          "dash": "solid"
         },
         "marker": {
          "symbol": "circle"
         },
         "mode": "lines",
         "name": "Jan",
         "orientation": "v",
         "showlegend": true,
         "type": "scatter",
         "x": [
          0,
          1,
          2,
          3,
          4,
          5,
          6,
          7,
          8,
          9,
          10,
          11,
          12,
          13,
          14,
          15,
          16,
          17,
          18,
          19,
          20,
          21,
          22,
          23
         ],
         "xaxis": "x",
         "y": [
          0,
          0,
          0,
          0,
          0,
          0,
          14.348050420524276,
          84.14761053323996,
          164.87744068121594,
          212.29220425421119,
          236.51174139763162,
          232.3619299562624,
          207.9752302502421,
          203.1305011006994,
          152.92729184158543,
          94.51847393010313,
          32.43365510938872,
          2.883704751264666,
          0,
          0,
          0,
          0,
          0,
          0
         ],
         "yaxis": "y"
        },
        {
         "hovertemplate": "Mes=Feb<br>Hora del Día=%{x}<br>Potencia Promedio (W)=%{y}<extra></extra>",
         "legendgroup": "Feb",
         "line": {
          "color": "#EF553B",
          "dash": "solid"
         },
         "marker": {
          "symbol": "circle"
         },
         "mode": "lines",
         "name": "Feb",
         "orientation": "v",
         "showlegend": true,
         "type": "scatter",
         "x": [
          0,
          1,
          2,
          3,
          4,
          5,
          6,
          7,
          8,
          9,
          10,
          11,
          12,
          13,
          14,
          15,
          16,
          17,
          18,
          19,
          20,
          21,
          22,
          23
         ],
         "xaxis": "x",
         "y": [
          0,
          0,
          0,
          0,
          0,
          0,
          14.666499035775487,
          93.05981908001296,
          176.13791443304484,
          216.64885445708174,
          232.04057036134444,
          235.35648510265978,
          236.53683160099123,
          227.00265372991518,
          188.24929586492726,
          117.12970265447245,
          57.16991936205568,
          8.198643233267088,
          0,
          0,
          0,
          0,
          0,
          0
         ],
         "yaxis": "y"
        },
        {
         "hovertemplate": "Mes=Mar<br>Hora del Día=%{x}<br>Potencia Promedio (W)=%{y}<extra></extra>",
         "legendgroup": "Mar",
         "line": {
          "color": "#00cc96",
          "dash": "solid"
         },
         "marker": {
          "symbol": "circle"
         },
         "mode": "lines",
         "name": "Mar",
         "orientation": "v",
         "showlegend": true,
         "type": "scatter",
         "x": [
          0,
          1,
          2,
          3,
          4,
          5,
          6,
          7,
          8,
          9,
          10,
          11,
          12,
          13,
          14,
          15,
          16,
          17,
          18,
          19,
          20,
          21,
          22,
          23
         ],
         "xaxis": "x",
         "y": [
          0,
          0,
          0,
          0,
          0,
          0,
          29.28619097164351,
          112.84554255214498,
          198.08777251517253,
          248.23020078974793,
          273.9450754189825,
          282.83921681093443,
          246.58649721092004,
          226.79109412316106,
          181.56290840170774,
          110.1976112229016,
          46.12334024154531,
          7.5190369487666,
          0,
          0,
          0,
          0,
          0,
          0
         ],
         "yaxis": "y"
        },
        {
         "hovertemplate": "Mes=Apr<br>Hora del Día=%{x}<br>Potencia Promedio (W)=%{y}<extra></extra>",
         "legendgroup": "Apr",
         "line": {
          "color": "#ab63fa",
          "dash": "solid"
         },
         "marker": {
          "symbol": "circle"
         },
         "mode": "lines",
         "name": "Apr",
         "orientation": "v",
         "showlegend": true,
         "type": "scatter",
         "x": [
          0,
          1,
          2,
          3,
          4,
          5,
          6,
          7,
          8,
          9,
          10,
          11,
          12,
          13,
          14,
          15,
          16,
          17,
          18,
          19,
          20,
          21,
          22,
          23
         ],
         "xaxis": "x",
         "y": [
          0,
          0,
          0,
          0,
          0,
          3.0780579051358203,
          47.78477619182775,
          138.75491656901883,
          201.0660658531968,
          254.66137065942223,
          278.7440752422411,
          287.81721186197126,
          276.29468238843725,
          234.84388242564157,
          167.32535728066964,
          113.23126085217837,
          50.224059900613874,
          8.163597972200877,
          0,
          0,
          0,
          0,
          0,
          0
         ],
         "yaxis": "y"
        },
        {
         "hovertemplate": "Mes=May<br>Hora del Día=%{x}<br>Potencia Promedio (W)=%{y}<extra></extra>",
         "legendgroup": "May",
         "line": {
          "color": "#FFA15A",
          "dash": "solid"
         },
         "marker": {
          "symbol": "circle"
         },
         "mode": "lines",
         "name": "May",
         "orientation": "v",
         "showlegend": true,
         "type": "scatter",
         "x": [
          0,
          1,
          2,
          3,
          4,
          5,
          6,
          7,
          8,
          9,
          10,
          11,
          12,
          13,
          14,
          15,
          16,
          17,
          18,
          19,
          20,
          21,
          22,
          23
         ],
         "xaxis": "x",
         "y": [
          0,
          0,
          0,
          0,
          0,
          6.153525178855731,
          56.80158131511466,
          142.5678169306761,
          210.5651624531511,
          257.5042935250222,
          274.98769738125753,
          274.4562263707222,
          254.61246042641253,
          200.61596350505692,
          150.80314179619202,
          87.40815017009977,
          45.443328676360366,
          8.70575148842703,
          0,
          0,
          0,
          0,
          0,
          0
         ],
         "yaxis": "y"
        },
        {
         "hovertemplate": "Mes=Jun<br>Hora del Día=%{x}<br>Potencia Promedio (W)=%{y}<extra></extra>",
         "legendgroup": "Jun",
         "line": {
          "color": "#19d3f3",
          "dash": "solid"
         },
         "marker": {
          "symbol": "circle"
         },
         "mode": "lines",
         "name": "Jun",
         "orientation": "v",
         "showlegend": true,
         "type": "scatter",
         "x": [
          0,
          1,
          2,
          3,
          4,
          5,
          6,
          7,
          8,
          9,
          10,
          11,
          12,
          13,
          14,
          15,
          16,
          17,
          18,
          19,
          20,
          21,
          22,
          23
         ],
         "xaxis": "x",
         "y": [
          0,
          0,
          0,
          0,
          0,
          5.146418085839249,
          49.371588221128796,
          123.01361060255755,
          192.76032022114845,
          249.2907882563698,
          271.3954634810047,
          252.7082801004554,
          202.44610717654658,
          169.65240752527,
          132.28502775160072,
          71.37192722905642,
          37.673985970494776,
          8.184789231497765,
          0,
          0,
          0,
          0,
          0,
          0
         ],
         "yaxis": "y"
        },
        {
         "hovertemplate": "Mes=Jul<br>Hora del Día=%{x}<br>Potencia Promedio (W)=%{y}<extra></extra>",
         "legendgroup": "Jul",
         "line": {
          "color": "#FF6692",
          "dash": "solid"
         },
         "marker": {
          "symbol": "circle"
         },
         "mode": "lines",
         "name": "Jul",
         "orientation": "v",
         "showlegend": true,
         "type": "scatter",
         "x": [
          0,
          1,
          2,
          3,
          4,
          5,
          6,
          7,
          8,
          9,
          10,
          11,
          12,
          13,
          14,
          15,
          16,
          17,
          18,
          19,
          20,
          21,
          22,
          23
         ],
         "xaxis": "x",
         "y": [
          0,
          0,
          0,
          0,
          0,
          2.688017655324003,
          45.56036231311811,
          119.51966328808923,
          178.71684811611905,
          215.61054508336838,
          221.05516398789058,
          225.22903744574242,
          205.62655235264987,
          187.46504259895985,
          143.24145491181815,
          95.28402837314424,
          45.23670928310845,
          11.590309452096466,
          0,
          0,
          0,
          0,
          0,
          0
         ],
         "yaxis": "y"
        },
        {
         "hovertemplate": "Mes=Aug<br>Hora del Día=%{x}<br>Potencia Promedio (W)=%{y}<extra></extra>",
         "legendgroup": "Aug",
         "line": {
          "color": "#B6E880",
          "dash": "solid"
         },
         "marker": {
          "symbol": "circle"
         },
         "mode": "lines",
         "name": "Aug",
         "orientation": "v",
         "showlegend": true,
         "type": "scatter",
         "x": [
          0,
          1,
          2,
          3,
          4,
          5,
          6,
          7,
          8,
          9,
          10,
          11,
          12,
          13,
          14,
          15,
          16,
          17,
          18,
          19,
          20,
          21,
          22,
          23
         ],
         "xaxis": "x",
         "y": [
          0,
          0,
          0,
          0,
          0,
          1.8412239824852832,
          42.323313310212505,
          113.76093691515676,
          170.60237902337613,
          214.3833608826769,
          231.37205537262668,
          222.620465109232,
          201.74420696667926,
          180.2868561526026,
          129.99868461257992,
          92.06413192163248,
          37.25484009384814,
          8.390060406089779,
          0,
          0,
          0,
          0,
          0,
          0
         ],
         "yaxis": "y"
        },
        {
         "hovertemplate": "Mes=Sep<br>Hora del Día=%{x}<br>Potencia Promedio (W)=%{y}<extra></extra>",
         "legendgroup": "Sep",
         "line": {
          "color": "#FF97FF",
          "dash": "solid"
         },
         "marker": {
          "symbol": "circle"
         },
         "mode": "lines",
         "name": "Sep",
         "orientation": "v",
         "showlegend": true,
         "type": "scatter",
         "x": [
          0,
          1,
          2,
          3,
          4,
          5,
          6,
          7,
          8,
          9,
          10,
          11,
          12,
          13,
          14,
          15,
          16,
          17,
          18,
          19,
          20,
          21,
          22,
          23
         ],
         "xaxis": "x",
         "y": [
          0,
          0,
          0,
          0,
          0,
          2.502634599781275,
          50.41414555241492,
          133.16563857000565,
          197.4705589057136,
          242.05277374998334,
          257.1075174621336,
          249.00736645830065,
          220.43147495053287,
          174.21256706531298,
          119.05757890289586,
          74.49160587964221,
          30.695417833234202,
          2.2954805165285963,
          0,
          0,
          0,
          0,
          0,
          0
         ],
         "yaxis": "y"
        },
        {
         "hovertemplate": "Mes=Oct<br>Hora del Día=%{x}<br>Potencia Promedio (W)=%{y}<extra></extra>",
         "legendgroup": "Oct",
         "line": {
          "color": "#FECB52",
          "dash": "solid"
         },
         "marker": {
          "symbol": "circle"
         },
         "mode": "lines",
         "name": "Oct",
         "orientation": "v",
         "showlegend": true,
         "type": "scatter",
         "x": [
          0,
          1,
          2,
          3,
          4,
          5,
          6,
          7,
          8,
          9,
          10,
          11,
          12,
          13,
          14,
          15,
          16,
          17,
          18,
          19,
          20,
          21,
          22,
          23
         ],
         "xaxis": "x",
         "y": [
          0,
          0,
          0,
          0,
          0,
          2.058464730246328,
          44.83111548076736,
          117.70575464135854,
          184.7571963213408,
          221.25966182060137,
          232.89464375720556,
          219.49080724458747,
          177.5808808288157,
          146.07900035002336,
          103.10533998839321,
          42.992135963219674,
          15.51100699880761,
          0.0208294056088252,
          0,
          0,
          0,
          0,
          0,
          0
         ],
         "yaxis": "y"
        },
        {
         "hovertemplate": "Mes=Nov<br>Hora del Día=%{x}<br>Potencia Promedio (W)=%{y}<extra></extra>",
         "legendgroup": "Nov",
         "line": {
          "color": "#636efa",
          "dash": "solid"
         },
         "marker": {
          "symbol": "circle"
         },
         "mode": "lines",
         "name": "Nov",
         "orientation": "v",
         "showlegend": true,
         "type": "scatter",
         "x": [
          0,
          1,
          2,
          3,
          4,
          5,
          6,
          7,
          8,
          9,
          10,
          11,
          12,
          13,
          14,
          15,
          16,
          17,
          18,
          19,
          20,
          21,
          22,
          23
         ],
         "xaxis": "x",
         "y": [
          0,
          0,
          0,
          0,
          0,
          1.0071578891789688,
          35.96901797499752,
          108.09093166100709,
          169.68358652178617,
          193.68734094786868,
          198.67869594088077,
          197.48031157024477,
          170.11708574729337,
          131.63500116802243,
          85.72119485086162,
          52.12331941941784,
          17.484864635685817,
          0,
          0,
          0,
          0,
          0,
          0,
          0
         ],
         "yaxis": "y"
        },
        {
         "hovertemplate": "Mes=Dec<br>Hora del Día=%{x}<br>Potencia Promedio (W)=%{y}<extra></extra>",
         "legendgroup": "Dec",
         "line": {
          "color": "#EF553B",
          "dash": "solid"
         },
         "marker": {
          "symbol": "circle"
         },
         "mode": "lines",
         "name": "Dec",
         "orientation": "v",
         "showlegend": true,
         "type": "scatter",
         "x": [
          0,
          1,
          2,
          3,
          4,
          5,
          6,
          7,
          8,
          9,
          10,
          11,
          12,
          13,
          14,
          15,
          16,
          17,
          18,
          19,
          20,
          21,
          22,
          23
         ],
         "xaxis": "x",
         "y": [
          0,
          0,
          0,
          0,
          0,
          0,
          20.040662631784958,
          90.0422598054507,
          154.79231557048038,
          196.65247813793644,
          222.6150999024282,
          214.41115539324468,
          197.85500372468454,
          176.59437351671434,
          129.84674512740312,
          67.21891724999249,
          20.234814237781542,
          0,
          0,
          0,
          0,
          0,
          0,
          0
         ],
         "yaxis": "y"
        }
       ],
       "layout": {
        "legend": {
         "title": {
          "text": "Mes"
         },
         "tracegroupgap": 0
        },
        "template": {
         "data": {
          "bar": [
           {
            "error_x": {
             "color": "#2a3f5f"
            },
            "error_y": {
             "color": "#2a3f5f"
            },
            "marker": {
             "line": {
              "color": "#E5ECF6",
              "width": 0.5
             },
             "pattern": {
              "fillmode": "overlay",
              "size": 10,
              "solidity": 0.2
             }
            },
            "type": "bar"
           }
          ],
          "barpolar": [
           {
            "marker": {
             "line": {
              "color": "#E5ECF6",
              "width": 0.5
             },
             "pattern": {
              "fillmode": "overlay",
              "size": 10,
              "solidity": 0.2
             }
            },
            "type": "barpolar"
           }
          ],
          "carpet": [
           {
            "aaxis": {
             "endlinecolor": "#2a3f5f",
             "gridcolor": "white",
             "linecolor": "white",
             "minorgridcolor": "white",
             "startlinecolor": "#2a3f5f"
            },
            "baxis": {
             "endlinecolor": "#2a3f5f",
             "gridcolor": "white",
             "linecolor": "white",
             "minorgridcolor": "white",
             "startlinecolor": "#2a3f5f"
            },
            "type": "carpet"
           }
          ],
          "choropleth": [
           {
            "colorbar": {
             "outlinewidth": 0,
             "ticks": ""
            },
            "type": "choropleth"
           }
          ],
          "contour": [
           {
            "colorbar": {
             "outlinewidth": 0,
             "ticks": ""
            },
            "colorscale": [
             [
              0,
              "#0d0887"
             ],
             [
              0.1111111111111111,
              "#46039f"
             ],
             [
              0.2222222222222222,
              "#7201a8"
             ],
             [
              0.3333333333333333,
              "#9c179e"
             ],
             [
              0.4444444444444444,
              "#bd3786"
             ],
             [
              0.5555555555555556,
              "#d8576b"
             ],
             [
              0.6666666666666666,
              "#ed7953"
             ],
             [
              0.7777777777777778,
              "#fb9f3a"
             ],
             [
              0.8888888888888888,
              "#fdca26"
             ],
             [
              1,
              "#f0f921"
             ]
            ],
            "type": "contour"
           }
          ],
          "contourcarpet": [
           {
            "colorbar": {
             "outlinewidth": 0,
             "ticks": ""
            },
            "type": "contourcarpet"
           }
          ],
          "heatmap": [
           {
            "colorbar": {
             "outlinewidth": 0,
             "ticks": ""
            },
            "colorscale": [
             [
              0,
              "#0d0887"
             ],
             [
              0.1111111111111111,
              "#46039f"
             ],
             [
              0.2222222222222222,
              "#7201a8"
             ],
             [
              0.3333333333333333,
              "#9c179e"
             ],
             [
              0.4444444444444444,
              "#bd3786"
             ],
             [
              0.5555555555555556,
              "#d8576b"
             ],
             [
              0.6666666666666666,
              "#ed7953"
             ],
             [
              0.7777777777777778,
              "#fb9f3a"
             ],
             [
              0.8888888888888888,
              "#fdca26"
             ],
             [
              1,
              "#f0f921"
             ]
            ],
            "type": "heatmap"
           }
          ],
          "heatmapgl": [
           {
            "colorbar": {
             "outlinewidth": 0,
             "ticks": ""
            },
            "colorscale": [
             [
              0,
              "#0d0887"
             ],
             [
              0.1111111111111111,
              "#46039f"
             ],
             [
              0.2222222222222222,
              "#7201a8"
             ],
             [
              0.3333333333333333,
              "#9c179e"
             ],
             [
              0.4444444444444444,
              "#bd3786"
             ],
             [
              0.5555555555555556,
              "#d8576b"
             ],
             [
              0.6666666666666666,
              "#ed7953"
             ],
             [
              0.7777777777777778,
              "#fb9f3a"
             ],
             [
              0.8888888888888888,
              "#fdca26"
             ],
             [
              1,
              "#f0f921"
             ]
            ],
            "type": "heatmapgl"
           }
          ],
          "histogram": [
           {
            "marker": {
             "pattern": {
              "fillmode": "overlay",
              "size": 10,
              "solidity": 0.2
             }
            },
            "type": "histogram"
           }
          ],
          "histogram2d": [
           {
            "colorbar": {
             "outlinewidth": 0,
             "ticks": ""
            },
            "colorscale": [
             [
              0,
              "#0d0887"
             ],
             [
              0.1111111111111111,
              "#46039f"
             ],
             [
              0.2222222222222222,
              "#7201a8"
             ],
             [
              0.3333333333333333,
              "#9c179e"
             ],
             [
              0.4444444444444444,
              "#bd3786"
             ],
             [
              0.5555555555555556,
              "#d8576b"
             ],
             [
              0.6666666666666666,
              "#ed7953"
             ],
             [
              0.7777777777777778,
              "#fb9f3a"
             ],
             [
              0.8888888888888888,
              "#fdca26"
             ],
             [
              1,
              "#f0f921"
             ]
            ],
            "type": "histogram2d"
           }
          ],
          "histogram2dcontour": [
           {
            "colorbar": {
             "outlinewidth": 0,
             "ticks": ""
            },
            "colorscale": [
             [
              0,
              "#0d0887"
             ],
             [
              0.1111111111111111,
              "#46039f"
             ],
             [
              0.2222222222222222,
              "#7201a8"
             ],
             [
              0.3333333333333333,
              "#9c179e"
             ],
             [
              0.4444444444444444,
              "#bd3786"
             ],
             [
              0.5555555555555556,
              "#d8576b"
             ],
             [
              0.6666666666666666,
              "#ed7953"
             ],
             [
              0.7777777777777778,
              "#fb9f3a"
             ],
             [
              0.8888888888888888,
              "#fdca26"
             ],
             [
              1,
              "#f0f921"
             ]
            ],
            "type": "histogram2dcontour"
           }
          ],
          "mesh3d": [
           {
            "colorbar": {
             "outlinewidth": 0,
             "ticks": ""
            },
            "type": "mesh3d"
           }
          ],
          "parcoords": [
           {
            "line": {
             "colorbar": {
              "outlinewidth": 0,
              "ticks": ""
             }
            },
            "type": "parcoords"
           }
          ],
          "pie": [
           {
            "automargin": true,
            "type": "pie"
           }
          ],
          "scatter": [
           {
            "fillpattern": {
             "fillmode": "overlay",
             "size": 10,
             "solidity": 0.2
            },
            "type": "scatter"
           }
          ],
          "scatter3d": [
           {
            "line": {
             "colorbar": {
              "outlinewidth": 0,
              "ticks": ""
             }
            },
            "marker": {
             "colorbar": {
              "outlinewidth": 0,
              "ticks": ""
             }
            },
            "type": "scatter3d"
           }
          ],
          "scattercarpet": [
           {
            "marker": {
             "colorbar": {
              "outlinewidth": 0,
              "ticks": ""
             }
            },
            "type": "scattercarpet"
           }
          ],
          "scattergeo": [
           {
            "marker": {
             "colorbar": {
              "outlinewidth": 0,
              "ticks": ""
             }
            },
            "type": "scattergeo"
           }
          ],
          "scattergl": [
           {
            "marker": {
             "colorbar": {
              "outlinewidth": 0,
              "ticks": ""
             }
            },
            "type": "scattergl"
           }
          ],
          "scattermapbox": [
           {
            "marker": {
             "colorbar": {
              "outlinewidth": 0,
              "ticks": ""
             }
            },
            "type": "scattermapbox"
           }
          ],
          "scatterpolar": [
           {
            "marker": {
             "colorbar": {
              "outlinewidth": 0,
              "ticks": ""
             }
            },
            "type": "scatterpolar"
           }
          ],
          "scatterpolargl": [
           {
            "marker": {
             "colorbar": {
              "outlinewidth": 0,
              "ticks": ""
             }
            },
            "type": "scatterpolargl"
           }
          ],
          "scatterternary": [
           {
            "marker": {
             "colorbar": {
              "outlinewidth": 0,
              "ticks": ""
             }
            },
            "type": "scatterternary"
           }
          ],
          "surface": [
           {
            "colorbar": {
             "outlinewidth": 0,
             "ticks": ""
            },
            "colorscale": [
             [
              0,
              "#0d0887"
             ],
             [
              0.1111111111111111,
              "#46039f"
             ],
             [
              0.2222222222222222,
              "#7201a8"
             ],
             [
              0.3333333333333333,
              "#9c179e"
             ],
             [
              0.4444444444444444,
              "#bd3786"
             ],
             [
              0.5555555555555556,
              "#d8576b"
             ],
             [
              0.6666666666666666,
              "#ed7953"
             ],
             [
              0.7777777777777778,
              "#fb9f3a"
             ],
             [
              0.8888888888888888,
              "#fdca26"
             ],
             [
              1,
              "#f0f921"
             ]
            ],
            "type": "surface"
           }
          ],
          "table": [
           {
            "cells": {
             "fill": {
              "color": "#EBF0F8"
             },
             "line": {
              "color": "white"
             }
            },
            "header": {
             "fill": {
              "color": "#C8D4E3"
             },
             "line": {
              "color": "white"
             }
            },
            "type": "table"
           }
          ]
         },
         "layout": {
          "annotationdefaults": {
           "arrowcolor": "#2a3f5f",
           "arrowhead": 0,
           "arrowwidth": 1
          },
          "autotypenumbers": "strict",
          "coloraxis": {
           "colorbar": {
            "outlinewidth": 0,
            "ticks": ""
           }
          },
          "colorscale": {
           "diverging": [
            [
             0,
             "#8e0152"
            ],
            [
             0.1,
             "#c51b7d"
            ],
            [
             0.2,
             "#de77ae"
            ],
            [
             0.3,
             "#f1b6da"
            ],
            [
             0.4,
             "#fde0ef"
            ],
            [
             0.5,
             "#f7f7f7"
            ],
            [
             0.6,
             "#e6f5d0"
            ],
            [
             0.7,
             "#b8e186"
            ],
            [
             0.8,
             "#7fbc41"
            ],
            [
             0.9,
             "#4d9221"
            ],
            [
             1,
             "#276419"
            ]
           ],
           "sequential": [
            [
             0,
             "#0d0887"
            ],
            [
             0.1111111111111111,
             "#46039f"
            ],
            [
             0.2222222222222222,
             "#7201a8"
            ],
            [
             0.3333333333333333,
             "#9c179e"
            ],
            [
             0.4444444444444444,
             "#bd3786"
            ],
            [
             0.5555555555555556,
             "#d8576b"
            ],
            [
             0.6666666666666666,
             "#ed7953"
            ],
            [
             0.7777777777777778,
             "#fb9f3a"
            ],
            [
             0.8888888888888888,
             "#fdca26"
            ],
            [
             1,
             "#f0f921"
            ]
           ],
           "sequentialminus": [
            [
             0,
             "#0d0887"
            ],
            [
             0.1111111111111111,
             "#46039f"
            ],
            [
             0.2222222222222222,
             "#7201a8"
            ],
            [
             0.3333333333333333,
             "#9c179e"
            ],
            [
             0.4444444444444444,
             "#bd3786"
            ],
            [
             0.5555555555555556,
             "#d8576b"
            ],
            [
             0.6666666666666666,
             "#ed7953"
            ],
            [
             0.7777777777777778,
             "#fb9f3a"
            ],
            [
             0.8888888888888888,
             "#fdca26"
            ],
            [
             1,
             "#f0f921"
            ]
           ]
          },
          "colorway": [
           "#636efa",
           "#EF553B",
           "#00cc96",
           "#ab63fa",
           "#FFA15A",
           "#19d3f3",
           "#FF6692",
           "#B6E880",
           "#FF97FF",
           "#FECB52"
          ],
          "font": {
           "color": "#2a3f5f"
          },
          "geo": {
           "bgcolor": "white",
           "lakecolor": "white",
           "landcolor": "#E5ECF6",
           "showlakes": true,
           "showland": true,
           "subunitcolor": "white"
          },
          "hoverlabel": {
           "align": "left"
          },
          "hovermode": "closest",
          "mapbox": {
           "style": "light"
          },
          "paper_bgcolor": "white",
          "plot_bgcolor": "#E5ECF6",
          "polar": {
           "angularaxis": {
            "gridcolor": "white",
            "linecolor": "white",
            "ticks": ""
           },
           "bgcolor": "#E5ECF6",
           "radialaxis": {
            "gridcolor": "white",
            "linecolor": "white",
            "ticks": ""
           }
          },
          "scene": {
           "xaxis": {
            "backgroundcolor": "#E5ECF6",
            "gridcolor": "white",
            "gridwidth": 2,
            "linecolor": "white",
            "showbackground": true,
            "ticks": "",
            "zerolinecolor": "white"
           },
           "yaxis": {
            "backgroundcolor": "#E5ECF6",
            "gridcolor": "white",
            "gridwidth": 2,
            "linecolor": "white",
            "showbackground": true,
            "ticks": "",
            "zerolinecolor": "white"
           },
           "zaxis": {
            "backgroundcolor": "#E5ECF6",
            "gridcolor": "white",
            "gridwidth": 2,
            "linecolor": "white",
            "showbackground": true,
            "ticks": "",
            "zerolinecolor": "white"
           }
          },
          "shapedefaults": {
           "line": {
            "color": "#2a3f5f"
           }
          },
          "ternary": {
           "aaxis": {
            "gridcolor": "white",
            "linecolor": "white",
            "ticks": ""
           },
           "baxis": {
            "gridcolor": "white",
            "linecolor": "white",
            "ticks": ""
           },
           "bgcolor": "#E5ECF6",
           "caxis": {
            "gridcolor": "white",
            "linecolor": "white",
            "ticks": ""
           }
          },
          "title": {
           "x": 0.05
          },
          "xaxis": {
           "automargin": true,
           "gridcolor": "white",
           "linecolor": "white",
           "ticks": "",
           "title": {
            "standoff": 15
           },
           "zerolinecolor": "white",
           "zerolinewidth": 2
          },
          "yaxis": {
           "automargin": true,
           "gridcolor": "white",
           "linecolor": "white",
           "ticks": "",
           "title": {
            "standoff": 15
           },
           "zerolinecolor": "white",
           "zerolinewidth": 2
          }
         }
        },
        "title": {
         "text": "Perfil Diario Promedio de Potencia Estimada por Mes"
        },
        "xaxis": {
         "anchor": "y",
         "domain": [
          0,
          1
         ],
         "dtick": 2,
         "range": [
          0,
          23
         ],
         "title": {
          "text": "Hora del Día"
         }
        },
        "yaxis": {
         "anchor": "x",
         "domain": [
          0,
          1
         ],
         "title": {
          "text": "Potencia Promedio Estimada (W)"
         }
        }
       }
      }
     },
     "metadata": {},
     "output_type": "display_data"
    }
   ],
   "source": [
    "import plotly.express as px\n",
    "import pandas as pd\n",
    "import calendar \n",
    "\n",
    "if isinstance(df.index, pd.DatetimeIndex):\n",
    "    df['HoraDelDia'] = df.index.hour\n",
    "    df['MesNum'] = df.index.month\n",
    "    df['MesNombre'] = df['MesNum'].apply(lambda x: calendar.month_abbr[x])\n",
    "\n",
    " \n",
    "    perfil_promedio = df.groupby(['MesNombre', 'MesNum', 'HoraDelDia'])['Potencia_estimada (W)'].mean().reset_index()\n",
    "    perfil_promedio.sort_values(by=['MesNum', 'HoraDelDia'], inplace=True)\n",
    "\n",
    "    fig_perfil_pot = px.line(\n",
    "        perfil_promedio,\n",
    "        x='HoraDelDia',\n",
    "        y='Potencia_estimada (W)', \n",
    "        color='MesNombre',          \n",
    "        title='Perfil Diario Promedio de Potencia Estimada por Mes',\n",
    "        labels={ # Etiquetas más descriptivas\n",
    "            'HoraDelDia': 'Hora del Día',\n",
    "            'Potencia_estimada (W)': 'Potencia Promedio (W)', \n",
    "            'MesNombre': 'Mes'\n",
    "        },\n",
    "        markers=False \n",
    "    )\n",
    "\n",
    " \n",
    "\n",
    "    fig_perfil_pot.update_xaxes(range=[0, 23], dtick=2) # Marcas cada 2 horas en eje X\n",
    "    fig_perfil_pot.update_yaxes(title_text='Potencia Promedio Estimada (W)') # Título específico eje Y\n",
    "\n",
    "    fig_perfil_pot.show()\n",
    "\n",
    "else:\n",
    "    print(\"Error: El índice del DataFrame no es de tipo DatetimeIndex.\")"
   ]
  }
 ],
 "metadata": {
  "kernelspec": {
   "display_name": "Python 3",
   "language": "python",
   "name": "python3"
  },
  "language_info": {
   "codemirror_mode": {
    "name": "ipython",
    "version": 3
   },
   "file_extension": ".py",
   "mimetype": "text/x-python",
   "name": "python",
   "nbconvert_exporter": "python",
   "pygments_lexer": "ipython3",
   "version": "3.12.5"
  }
 },
 "nbformat": 4,
 "nbformat_minor": 5
}
